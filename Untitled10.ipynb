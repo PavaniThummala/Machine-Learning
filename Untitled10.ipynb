{
  "nbformat": 4,
  "nbformat_minor": 0,
  "metadata": {
    "colab": {
      "name": "Untitled10.ipynb",
      "provenance": [],
      "authorship_tag": "ABX9TyNMXYtg26UvNP3x0+8cEXNO",
      "include_colab_link": true
    },
    "kernelspec": {
      "name": "python3",
      "display_name": "Python 3"
    }
  },
  "cells": [
    {
      "cell_type": "markdown",
      "metadata": {
        "id": "view-in-github",
        "colab_type": "text"
      },
      "source": [
        "<a href=\"https://colab.research.google.com/github/PavaniThummala/Machine-Learning/blob/master/Untitled10.ipynb\" target=\"_parent\"><img src=\"https://colab.research.google.com/assets/colab-badge.svg\" alt=\"Open In Colab\"/></a>"
      ]
    },
    {
      "cell_type": "code",
      "metadata": {
        "id": "StzjD98xEtUt",
        "colab_type": "code",
        "colab": {
          "base_uri": "https://localhost:8080/",
          "height": 395
        },
        "outputId": "c9a46c0a-61cf-42ad-c429-95b5401297c3"
      },
      "source": [
        "import requests\n",
        "url=\"https://calendarific.com/api/v2/holidays?&api_key=baa9dc110aa712sd3a9fa2a3dwb6c01d4c875950dc32vs&year=2020&country=\"\n",
        "while(1):\n",
        "  country=input(\"Give country name :\")\n",
        "  my_url=url+country\n",
        "  responses=requests.get(my_url)\n",
        "  Description=responses.content\n",
        "  print(\"Holidays description:\\n\\n\",Description)\n",
        "  print(\"\\n\")\n"
      ],
      "execution_count": 0,
      "outputs": [
        {
          "output_type": "stream",
          "text": [
            "Holidays description:\n",
            "\n",
            " b'\\n{\"meta\":{\"code\":401,\"error_type\":\"auth failed\",\"error_detail\":\"Missing or invalid api credentials. See https:\\\\/\\\\/calendarific.com\\\\/api for details.\"},\"response\":[]}'\n",
            "\n",
            "\n",
            "Holidays description:\n",
            "\n",
            " b'\\n{\"meta\":{\"code\":401,\"error_type\":\"auth failed\",\"error_detail\":\"Missing or invalid api credentials. See https:\\\\/\\\\/calendarific.com\\\\/api for details.\"},\"response\":[]}'\n",
            "\n",
            "\n",
            "Holidays description:\n",
            "\n",
            " b'\\n{\"meta\":{\"code\":401,\"error_type\":\"auth failed\",\"error_detail\":\"Missing or invalid api credentials. See https:\\\\/\\\\/calendarific.com\\\\/api for details.\"},\"response\":[]}'\n",
            "\n",
            "\n",
            "Holidays description:\n",
            "\n",
            " b'\\n{\"meta\":{\"code\":401,\"error_type\":\"auth failed\",\"error_detail\":\"Missing or invalid api credentials. See https:\\\\/\\\\/calendarific.com\\\\/api for details.\"},\"response\":[]}'\n",
            "\n",
            "\n"
          ],
          "name": "stdout"
        }
      ]
    }
  ]
}